{
  "cells": [
    {
      "cell_type": "markdown",
      "metadata": {
        "id": "fKzYr96PfTUK"
      },
      "source": [
        "# Convolutional Neural Networks with CIFAR-10 Dataset\n",
        "\n",
        "## Objective\n",
        "In this exercise, you will:\n",
        "1. Utilize callback functions to halt training when a certain accuracy threshold is met.\n",
        "2. Integrate convolutional and MaxPooling layers into a neural network to enhance image classification accuracy.\n",
        "3. Grasp and demonstrate the benefits of convolution and MaxPooling in image classification tasks.\n",
        "\n",
        "---\n",
        "\n",
        "## Step 1: Import Libraries\n",
        "Let's start by importing the necessary libraries.\n"
      ]
    },
    {
      "cell_type": "code",
      "execution_count": 1,
      "metadata": {
        "id": "y1JnJf_EfTUM"
      },
      "outputs": [],
      "source": [
        "import numpy as np\n",
        "import matplotlib.pyplot as plt\n",
        "import tensorflow as tf\n",
        "from tensorflow.keras.datasets import cifar10\n"
      ]
    },
    {
      "cell_type": "markdown",
      "metadata": {
        "id": "Q_MybmDUfTUN"
      },
      "source": [
        "---\n",
        "\n",
        "## Step 2: Load and Preprocess the Data\n",
        "We'll load the CIFAR-10 dataset and then normalize the pixel values.\n"
      ]
    },
    {
      "cell_type": "code",
      "execution_count": 9,
      "metadata": {
        "id": "-JfnMPpVfTUN",
        "outputId": "a7125e14-5eaa-464f-a39b-5a0df06e048b",
        "colab": {
          "base_uri": "https://localhost:8080/"
        }
      },
      "outputs": [
        {
          "output_type": "stream",
          "name": "stdout",
          "text": [
            "Train images shape: (50000, 32, 32, 3)\n",
            "Train labels shape: (50000, 1)\n",
            "Test images shape: (10000, 32, 32, 3)\n",
            "Test labels shape: (10000, 1)\n"
          ]
        }
      ],
      "source": [
        "# Load the CIFAR-10 dataset\n",
        "(train_images, train_labels), (test_images, test_labels) = tf.keras.datasets.cifar10.load_data()\n",
        "\n",
        "# TODO Normalize the pixel values\n",
        "\n",
        "train_images = train_images / 255.0\n",
        "test_images = test_images / 255.0\n",
        "\n",
        "# Display the shape of the loaded data\n",
        "print(\"Train images shape:\", train_images.shape)\n",
        "print(\"Train labels shape:\", train_labels.shape)\n",
        "print(\"Test images shape:\", test_images.shape)\n",
        "print(\"Test labels shape:\", test_labels.shape)\n",
        "\n"
      ]
    },
    {
      "cell_type": "markdown",
      "metadata": {
        "id": "vRhR-zKDfTUO"
      },
      "source": [
        "---\n",
        "\n",
        "## Step 3: Visualize the Data\n",
        "Show some samples from the CIFAR-10 dataset.\n"
      ]
    },
    {
      "cell_type": "code",
      "execution_count": null,
      "metadata": {
        "id": "tQ3fsJ_zfTUO"
      },
      "outputs": [],
      "source": [
        "class_names = ['airplane', 'automobile', 'bird', 'cat', 'deer',\n",
        "               'dog', 'frog', 'horse', 'ship', 'truck']\n",
        "\n",
        "plt.figure(figsize=(10,10))\n",
        "for i in range(25):\n",
        "    plt.subplot(5,5,i+1)\n",
        "    plt.xticks([])\n",
        "    plt.yticks([])\n",
        "    plt.grid(False)\n",
        "    plt.imshow(train_images[i])\n",
        "    # The CIFAR labels happen to be arrays, which is why you need the extra index\n",
        "    plt.xlabel(class_names[train_labels[i][0]])\n",
        "plt.show()\n"
      ]
    },
    {
      "cell_type": "markdown",
      "metadata": {
        "id": "w_14SV8mfTUO"
      },
      "source": [
        "---\n",
        "\n",
        "## Step 4: Define a Callback\n",
        "Create a callback to monitor the model's accuracy and halt training when a specified accuracy is achieved.\n"
      ]
    },
    {
      "cell_type": "code",
      "execution_count": 13,
      "metadata": {
        "id": "vZ4TARyLfTUO"
      },
      "outputs": [],
      "source": [
        "# TODO define a callback that interrupts training after an accuracy of 90% is reached\n",
        "class AccuracyCallback(tf.keras.callbacks.Callback):\n",
        "    def on_epoch_end(self, epoch, logs={}):\n",
        "      if (logs.get('accuracy') > 0.9):\n",
        "        print(\"\\nAccuracy of 90% reached - stopping training.\\n\")\n",
        "        self.model.stop_training = True\n",
        "\n",
        "accuracy_callback = AccuracyCallback()"
      ]
    },
    {
      "cell_type": "markdown",
      "metadata": {
        "id": "1szeC55nfTUO"
      },
      "source": [
        "---\n",
        "\n",
        "## Step 5: Build a Convolutional Neural Network\n",
        "Construct a neural network that incorporates convolutional and MaxPooling layers.\n"
      ]
    },
    {
      "cell_type": "code",
      "execution_count": null,
      "metadata": {
        "id": "iPjLEz9ufTUO"
      },
      "outputs": [],
      "source": [
        "model = tf.keras.models.Sequential([\n",
        "  tf.keras.layers.Conv2D(64, (3,3), activation='relu', input_shape=(32, 32, 3)),\n",
        "  tf.keras.layers.MaxPooling2D(2, 2),\n",
        "  tf.keras.layers.Conv2D(64, (3,3), activation='relu'),\n",
        "  tf.keras.layers.MaxPooling2D(2,2),\n",
        "  tf.keras.layers.Flatten(),\n",
        "  tf.keras.layers.Dense(512, activation=tf.nn.relu),\n",
        "  tf.keras.layers.Dense(10, activation=tf.nn.softmax)\n",
        "])\n",
        "\n",
        "# Compile the model\n",
        "model.compile(optimizer=tf.optimizers.Adam(),\n",
        "              loss='sparse_categorical_crossentropy',\n",
        "              metrics=['accuracy'])\n",
        "\n",
        "model.summary()\n"
      ]
    },
    {
      "cell_type": "markdown",
      "metadata": {
        "id": "MqwweckZfTUP"
      },
      "source": [
        "---\n",
        "\n",
        "## Step 6: Train the Model\n",
        "Train the model using the training data and your callback function\n"
      ]
    },
    {
      "cell_type": "code",
      "execution_count": 18,
      "metadata": {
        "id": "rYIFg86hfTUP",
        "outputId": "777f5944-8617-4752-ea93-30e071fd03a0",
        "colab": {
          "base_uri": "https://localhost:8080/"
        }
      },
      "outputs": [
        {
          "output_type": "stream",
          "name": "stdout",
          "text": [
            "Epoch 1/10\n",
            "1563/1563 [==============================] - 133s 84ms/step - loss: 1.3993 - accuracy: 0.5003\n",
            "Epoch 2/10\n",
            "1563/1563 [==============================] - 130s 83ms/step - loss: 1.0258 - accuracy: 0.6375\n",
            "Epoch 3/10\n",
            "1563/1563 [==============================] - 125s 80ms/step - loss: 0.8416 - accuracy: 0.7070\n",
            "Epoch 4/10\n",
            "1563/1563 [==============================] - 126s 81ms/step - loss: 0.7022 - accuracy: 0.7559\n",
            "Epoch 5/10\n",
            "1563/1563 [==============================] - 124s 79ms/step - loss: 0.5698 - accuracy: 0.7999\n",
            "Epoch 6/10\n",
            "1563/1563 [==============================] - 126s 80ms/step - loss: 0.4452 - accuracy: 0.8439\n",
            "Epoch 7/10\n",
            "1563/1563 [==============================] - 123s 79ms/step - loss: 0.3317 - accuracy: 0.8853\n",
            "Epoch 8/10\n",
            "1562/1563 [============================>.] - ETA: 0s - loss: 0.2463 - accuracy: 0.9160\n",
            "Accuracy of 90% reached - stopping training.\n",
            "\n",
            "1563/1563 [==============================] - 126s 80ms/step - loss: 0.2464 - accuracy: 0.9160\n"
          ]
        },
        {
          "output_type": "execute_result",
          "data": {
            "text/plain": [
              "<keras.src.callbacks.History at 0x7bac37825d20>"
            ]
          },
          "metadata": {},
          "execution_count": 18
        }
      ],
      "source": [
        "model.fit(train_images, train_labels, epochs=10, callbacks=[accuracy_callback])\n"
      ]
    },
    {
      "cell_type": "markdown",
      "metadata": {
        "id": "M6FyDvwNfTUP"
      },
      "source": [
        "---\n",
        "\n",
        "## Step 7: Evaluate the Model\n",
        "Assess the model using the test data.\n"
      ]
    },
    {
      "cell_type": "code",
      "execution_count": null,
      "metadata": {
        "id": "ET29o1yTfTUP"
      },
      "outputs": [],
      "source": [
        "\n"
      ]
    },
    {
      "cell_type": "markdown",
      "metadata": {
        "id": "6iAi2lRofTUP"
      },
      "source": [
        "---\n",
        "\n",
        "## Step 8 (Optional): Visualizing the Advantages of Convolution and MaxPooling\n",
        "Demonstrate the benefits of convolution and MaxPooling. For this, we can extract the outputs from intermediate layers and visualize them. Play around with this to to find out what the model learns.\n"
      ]
    },
    {
      "cell_type": "code",
      "execution_count": 19,
      "metadata": {
        "id": "269ioTACfTUQ",
        "outputId": "9a29d438-026f-4c9e-c8fd-b812e0a9bad3",
        "colab": {
          "base_uri": "https://localhost:8080/",
          "height": 423
        }
      },
      "outputs": [
        {
          "output_type": "stream",
          "name": "stdout",
          "text": [
            "1/1 [==============================] - 0s 160ms/step\n"
          ]
        },
        {
          "output_type": "display_data",
          "data": {
            "text/plain": [
              "<Figure size 640x480 with 1 Axes>"
            ],
            "image/png": "[encoded data removed]"
          },
          "metadata": {}
        }
      ],
      "source": [
        "# Extracting outputs from our layers\n",
        "layer_outputs = [layer.output for layer in model.layers]\n",
        "activation_model = tf.keras.models.Model(inputs=model.input, outputs=layer_outputs)\n",
        "\n",
        "# For the first image in the training set\n",
        "img = train_images[0]\n",
        "img = np.expand_dims(img, axis=0)\n",
        "\n",
        "# Get the feature maps\n",
        "activations = activation_model.predict(img)\n",
        "\n",
        "# Visualizing the fourth channel of the output from the first layer (convolution)\n",
        "plt.imshow(activations[0][0, :, :, 4], cmap='inferno')\n",
        "plt.axis('off')\n",
        "plt.show()\n"
      ]
    }
  ],
  "metadata": {
    "kernelspec": {
      "display_name": ".ve_tensorflow_course",
      "language": "python",
      "name": "python3"
    },
    "language_info": {
      "codemirror_mode": {
        "name": "ipython",
        "version": 3
      },
      "file_extension": ".py",
      "mimetype": "text/x-python",
      "name": "python",
      "nbconvert_exporter": "python",
      "pygments_lexer": "ipython3",
      "version": "3.10.10"
    },
    "orig_nbformat": 4,
    "colab": {
      "provenance": []
    }
  },
  "nbformat": 4,
  "nbformat_minor": 0
}